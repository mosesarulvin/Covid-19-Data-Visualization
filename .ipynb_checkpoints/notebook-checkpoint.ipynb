{
 "cells": [
  {
   "cell_type": "code",
   "execution_count": 18,
   "metadata": {},
   "outputs": [
    {
     "name": "stdout",
     "output_type": "stream",
     "text": [
      "{'updated': 1634737658680, 'cases': 242492476, 'todayCases': 181868, 'deaths': 4931804, 'todayDeaths': 3433, 'recovered': 219788678, 'todayRecovered': 129695, 'active': 17771994, 'critical': 77396, 'casesPerOneMillion': 31110, 'deathsPerOneMillion': 632.7, 'tests': 3868258058, 'testsPerOneMillion': 492318.23, 'population': 7857230943, 'oneCasePerPeople': 0, 'oneDeathPerPeople': 0, 'oneTestPerPeople': 0, 'activePerOneMillion': 2261.86, 'recoveredPerOneMillion': 27972.79, 'criticalPerOneMillion': 9.85, 'affectedCountries': 223}\n",
      "242492476\n",
      "4931804\n",
      "219788678\n",
      "[242492476   4931804 219788678]\n"
     ]
    },
    {
     "data": {
      "image/png": "[encoded data removed]",
      "text/plain": [
       "<Figure size 432x288 with 1 Axes>"
      ]
     },
     "metadata": {
      "needs_background": "light"
     },
     "output_type": "display_data"
    }
   ],
   "source": [
    "import requests\n",
    "\n",
    "url = \"https://disease.sh/v3/covid-19/all\"\n",
    "response = requests.get(url)\n",
    "rawData = response.json()\n",
    "\n",
    "import numpy as np\n",
    "import pandas as pd\n",
    "import matplotlib.pyplot as plt\n",
    "\n",
    "data = rawData.copy()\n",
    "dataIndex = data.values() \n",
    "print(data)\n",
    "print(data['cases'])\n",
    "print(data['deaths'])\n",
    "print(data['recovered'])\n",
    "x = np.array(['cases','deaths','recovered'])\n",
    "y = np.array([data['cases'],data['deaths'],data['recovered']])\n",
    "print(y)\n",
    "#plt.pie(y)\n",
    "\n",
    "plt.bar(x,y)\n",
    "plt.show() "
   ]
  },
  {
   "cell_type": "code",
   "execution_count": null,
   "metadata": {},
   "outputs": [],
   "source": []
  }
 ],
 "metadata": {
  "interpreter": {
   "hash": "2be5faf79681da6f2a61fdfdd5405d65d042280f7fba6178067603e3a2925119"
  },
  "kernelspec": {
   "display_name": "Python 3 (ipykernel)",
   "language": "python",
   "name": "python3"
  },
  "language_info": {
   "codemirror_mode": {
    "name": "ipython",
    "version": 3
   },
   "file_extension": ".py",
   "mimetype": "text/x-python",
   "name": "python",
   "nbconvert_exporter": "python",
   "pygments_lexer": "ipython3",
   "version": "3.8.10"
  }
 },
 "nbformat": 4,
 "nbformat_minor": 2
}
